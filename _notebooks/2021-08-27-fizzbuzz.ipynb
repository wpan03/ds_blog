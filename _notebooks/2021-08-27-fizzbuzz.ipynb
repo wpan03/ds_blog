{
 "cells": [
  {
   "cell_type": "markdown",
   "source": [
    "# My Take for *Ten Essays ON FIZZ BUZZ*\n",
    "\n",
    "- toc: true\n",
    "- author: Martin Pan\n",
    "- branch: master\n",
    "- badges: true\n",
    "- comments: true"
   ],
   "metadata": {}
  },
  {
   "cell_type": "code",
   "execution_count": 1,
   "source": [
    "import itertools\n",
    "import math\n",
    "import random\n",
    "import re\n",
    "from typing import Callable, Iterator, NamedTuple, List\n",
    "\n",
    "import numpy as np\n",
    "import torch\n",
    "from torch.utils.data import DataLoader\n"
   ],
   "outputs": [],
   "metadata": {}
  },
  {
   "cell_type": "markdown",
   "source": [
    "## Introduction"
   ],
   "metadata": {}
  },
  {
   "cell_type": "markdown",
   "source": [
    "> Write a short program that prints each number from 1 to 100 on a new line.\n",
    "  For each multiple of 3, print \"Fizz\" instead of the number.\n",
    "  For each multiple of 5, print \"Buzz\" instead of the number.\n",
    "  For numbers which are multiples of both 3 and 5, print \"FizzBuzz\" instead of the number.\n",
    "\n",
    "You probably have seen this problem many times before. This is the \"Fizz Buzz\" problem sometimes shows up in a code interview. Joel Grus wrote an intriguing and insightful book [*Ten Essays ON FIZZ BUZZ*](https://www.google.com/search?q=ten+essays+on+fizz+buzz&rlz=1C5CHFA_enUS901US902&oq=Ten+Ess&aqs=chrome.0.69i59j0i512j69i57j69i59j0i512j69i61j69i60l2.2461j0j7&sourceid=chrome&ie=UTF-8) to discuss 10 different solutions for this problem in Python and gives informative discusssions about various aspects of Python, mathematics, and software design.\n",
    "\n",
    "This blog post is my attempts to explain the 10 solutions in the book.\n",
    "\n",
    "If you plan to read the book (highly recommended!), I hope this blog can give you another perspective to understand the content in the book. If you don't plan to do so, I hope this blog can at least give some knowledge I learned from the book to you.\n",
    "\n",
    "Most of the codes for those 10 solutions come from [Joel Gru's repository](https://github.com/joelgrus/fizzbuzz). I make small adjustments to run all those solutions in one notebook. Of course, all errors remain mine."
   ],
   "metadata": {}
  },
  {
   "cell_type": "markdown",
   "source": [
    "## Testing"
   ],
   "metadata": {}
  },
  {
   "cell_type": "code",
   "execution_count": 2,
   "source": [
    "def test_fizzbuzz_20(input: List):\n",
    "    first_20 = ['1', '2', 'fizz', '4', 'buzz', 'fizz', '7', '8', 'fizz',\n",
    "                'buzz', '11', 'fizz', '13', '14', 'fizzbuzz', '16', '17',\n",
    "                'fizz', '19', 'buzz']\n",
    "    assert input == first_20\n"
   ],
   "outputs": [],
   "metadata": {}
  },
  {
   "cell_type": "markdown",
   "source": [
    "## 100 Print"
   ],
   "metadata": {}
  },
  {
   "cell_type": "code",
   "execution_count": 3,
   "source": [
    "def fizz_buzz_brute(n: int) -> str:\n",
    "    fizz_buzz = [\n",
    "        '1', '2', 'fizz', '4', 'buzz', 'fizz', '7', '8', 'fizz',\n",
    "        'buzz', '11', 'fizz', '13', '14', 'fizzbuzz', '16', '17',\n",
    "        'fizz', '19', 'buzz', 'fizz', '22', '23', 'fizz', 'buzz',\n",
    "        '26', 'fizz', '28', '29', 'fizzbuzz', '31', '32', 'fizz',\n",
    "        '34', 'buzz', 'fizz', '37', '38', 'fizz', 'buzz', '41',\n",
    "        'fizz', '43', '44', 'fizzbuzz', '46', '47', 'fizz', '49',\n",
    "        'buzz', 'fizz', '52', '53', 'fizz', 'buzz', '56', 'fizz',\n",
    "        '58', '59', 'fizzbuzz', '61', '62', 'fizz', '64', 'buzz',\n",
    "        'fizz', '67', '68', 'fizz', 'buzz', '71', 'fizz', '73',\n",
    "        '74', 'fizzbuzz', '76', '77', 'fizz', '79', 'buzz',\n",
    "        'fizz', '82', '83', 'fizz', 'buzz', '86', 'fizz', '88',\n",
    "        '89', 'fizzbuzz', '91', '92', 'fizz', '94', 'buzz',\n",
    "        'fizz', '97', '98', 'fizz', 'buzz'\n",
    "    ]\n",
    "    return fizz_buzz[n-1]\n"
   ],
   "outputs": [],
   "metadata": {}
  },
  {
   "cell_type": "code",
   "execution_count": 4,
   "source": [
    "output_brute = [fizz_buzz_brute(i) for i in range(1, 21)]\n",
    "test_fizzbuzz_20(output_brute)"
   ],
   "outputs": [],
   "metadata": {}
  },
  {
   "cell_type": "markdown",
   "source": [
    "## Standard Way"
   ],
   "metadata": {}
  },
  {
   "cell_type": "code",
   "execution_count": 5,
   "source": [
    "def fizz_buzz_standard(n: int) -> str:\n",
    "    if n % 15 == 0:\n",
    "        return 'fizzbuzz'\n",
    "    elif n % 5 == 0:\n",
    "        return 'buzz'\n",
    "    elif n % 3 == 0:\n",
    "        return 'fizz'\n",
    "    else:\n",
    "        return str(n)"
   ],
   "outputs": [],
   "metadata": {}
  },
  {
   "cell_type": "code",
   "execution_count": 6,
   "source": [
    "output_standard = [fizz_buzz_standard(i) for i in range(1, 21)]\n",
    "test_fizzbuzz_20(output_standard)"
   ],
   "outputs": [],
   "metadata": {}
  },
  {
   "cell_type": "markdown",
   "source": [
    "## Cycle of 15"
   ],
   "metadata": {}
  },
  {
   "cell_type": "code",
   "execution_count": 7,
   "source": [
    "def fizz_buzz_c15(n: int) -> str:\n",
    "    CYCLE_OF_15 = ['fizzbuzz', None, None, 'fizz',\n",
    "                   None, 'buzz', 'fizz', None,\n",
    "                   None, 'fizz', 'buzz', None,\n",
    "                   'fizz', None, None]\n",
    "    return CYCLE_OF_15[n % 15] or str(n)\n"
   ],
   "outputs": [],
   "metadata": {}
  },
  {
   "cell_type": "code",
   "execution_count": 8,
   "source": [
    "output_c15 = [fizz_buzz_c15(i) for i in range(1, 21)]\n",
    "test_fizzbuzz_20(output_c15)"
   ],
   "outputs": [],
   "metadata": {}
  },
  {
   "cell_type": "markdown",
   "source": [
    "Let's first look at `CYCLE_OF_15[n%15]`. For this part of the function, if the input `n` is only divisible by 3, it will return `'fizz'`. If the input is only divisible by 5, it will return `'buzz'`. If it is divisible by both 3 and 5, it will return `'fizzbuzz'`. Otherwise, it returns `None`. Consider the following code."
   ],
   "metadata": {}
  },
  {
   "cell_type": "code",
   "execution_count": 28,
   "source": [
    "CYCLE_OF_15 = ['fizzbuzz', None, None, 'fizz',\n",
    "               None, 'buzz', 'fizz', None,\n",
    "               None, 'fizz', 'buzz', None,\n",
    "               'fizz', None, None]\n",
    "for n in [3, 5, 15, 17]:\n",
    "    print(f'{n} % 15 is:', n % 15, end=' ')\n",
    "    print(f'CYCLE_OF_15[{n} % 15] is:', CYCLE_OF_15[n % 15])\n"
   ],
   "outputs": [
    {
     "output_type": "stream",
     "name": "stdout",
     "text": [
      "3 % 15 is: 3 CYCLE_OF_15[3 % 15] is: fizz\n",
      "5 % 15 is: 5 CYCLE_OF_15[5 % 15] is: buzz\n",
      "15 % 15 is: 0 CYCLE_OF_15[15 % 15] is: fizzbuzz\n",
      "17 % 15 is: 2 CYCLE_OF_15[17 % 15] is: None\n"
     ]
    }
   ],
   "metadata": {}
  },
  {
   "cell_type": "markdown",
   "source": [
    "Now let's look at `CYCLE_OF_15[n % 15] or str(n)`. One interesting feature about Python is that for a statement `a or b`. If a is in `[None, [], '', False]`, `a or b` will be equal to `b`. Otherwise, it returns `a`. Consider the following code."
   ],
   "metadata": {}
  },
  {
   "cell_type": "code",
   "execution_count": 37,
   "source": [
    "for the_input in ['fizz', None, [], '', False]:\n",
    "    the_result = the_input or 'b'\n",
    "    print(f'{the_input} or b, we get: {the_result}')"
   ],
   "outputs": [
    {
     "output_type": "stream",
     "name": "stdout",
     "text": [
      "fizz or b, we get: fizz\n",
      "None or b, we get: b\n",
      "[] or b, we get: b\n",
      " or b, we get: b\n",
      "False or b, we get: b\n"
     ]
    }
   ],
   "metadata": {}
  },
  {
   "cell_type": "markdown",
   "source": [
    "So the idea of this function simple. If the number is divisible by 3, it will return `'fizz' or str(n)`, which is equal to `'fizz'`. The same logic applies to `'buzz'` and `'fizzbuzz'`. If the number is neither divisible by 3 nor by 5, it will return `None or str(n)`, which equals `str(n)`."
   ],
   "metadata": {}
  },
  {
   "cell_type": "markdown",
   "source": [
    "## Euclid's Solution"
   ],
   "metadata": {}
  },
  {
   "cell_type": "code",
   "execution_count": 9,
   "source": [
    "def fizz_buzz_euclid(n: int) -> str:\n",
    "    hi, lo = max(n, 15), min(n, 15)\n",
    "\n",
    "    while hi % lo > 0:\n",
    "        hi, lo = lo, hi % lo\n",
    "\n",
    "    return {1: str(n), 3: \"fizz\", 5: \"buzz\", 15: \"fizzbuzz\"}[lo]"
   ],
   "outputs": [],
   "metadata": {}
  },
  {
   "cell_type": "code",
   "execution_count": 10,
   "source": [
    "output_euclid = [fizz_buzz_euclid(i) for i in range(1, 21)]\n",
    "test_fizzbuzz_20(output_euclid)"
   ],
   "outputs": [],
   "metadata": {}
  },
  {
   "cell_type": "markdown",
   "source": [
    "## Trigonometry"
   ],
   "metadata": {}
  },
  {
   "cell_type": "code",
   "execution_count": 11,
   "source": [
    "def fizz_buzz_tri(n: int) -> str:\n",
    "    fizz = 'fizz' * int(math.cos(n * math.tau / 3))\n",
    "    buzz = 'buzz' * int(math.cos(n * math.tau / 5))\n",
    "    return (fizz + buzz) or str(n)"
   ],
   "outputs": [],
   "metadata": {}
  },
  {
   "cell_type": "code",
   "execution_count": 12,
   "source": [
    "output_tri = [fizz_buzz_tri(i) for i in range(1, 21)]\n",
    "test_fizzbuzz_20(output_tri)"
   ],
   "outputs": [],
   "metadata": {}
  },
  {
   "cell_type": "markdown",
   "source": [
    "## A Big Number"
   ],
   "metadata": {}
  },
  {
   "cell_type": "code",
   "execution_count": 13,
   "source": [
    "big_number = 0x134591c9a2c8e4d1647268b23934591c9a2c8e4d16\n",
    "chunks = re.findall('(0|10|110|111)', f\"{big_number:0>167b}\")\n",
    "def label(chunk: str, n: int) -> str:\n",
    "    labels = [str(n), '', 'fizz', '', '', '', 'buzz', 'fizzbuzz']\n",
    "    return labels[int(chunk, 2)]\n",
    "output_big = [label(chunk, n+1) for n, chunk in enumerate(chunks)]"
   ],
   "outputs": [],
   "metadata": {}
  },
  {
   "cell_type": "code",
   "execution_count": 14,
   "source": [
    "test_fizzbuzz_20(output_big[:20])"
   ],
   "outputs": [],
   "metadata": {}
  },
  {
   "cell_type": "markdown",
   "source": [
    "## Infinite Iterables"
   ],
   "metadata": {}
  },
  {
   "cell_type": "code",
   "execution_count": 15,
   "source": [
    "fizzes = itertools.cycle(['', '', 'fizz'])\n",
    "buzzes = itertools.cycle(['', '', '', '', 'buzz'])\n",
    "numbers = itertools.count(1)\n",
    "\n",
    "fizz_buzzes_iter = ((fizz + buzz) or str(n)\n",
    "                for fizz, buzz, n in zip(fizzes, buzzes, numbers))\n",
    "\n",
    "output_iter = [next(fizz_buzzes_iter) for _ in range(20)]"
   ],
   "outputs": [],
   "metadata": {}
  },
  {
   "cell_type": "code",
   "execution_count": 16,
   "source": [
    "test_fizzbuzz_20(output_iter)"
   ],
   "outputs": [],
   "metadata": {}
  },
  {
   "cell_type": "markdown",
   "source": [
    "## Random Guessing"
   ],
   "metadata": {}
  },
  {
   "cell_type": "code",
   "execution_count": 17,
   "source": [
    "def fizz_buzzes_random() -> Iterator[str]:\n",
    "    counts = [itertools.count(1)] * 15\n",
    "    for group in zip(*counts):\n",
    "        random.seed(23_977_775)\n",
    "        for n in group:\n",
    "            # Just pick at random\n",
    "            yield random.choice(\n",
    "                ['fizzbuzz', 'fizz', str(n), 'buzz']\n",
    "            )\n",
    "\n",
    "fb = fizz_buzzes_random()\n",
    "output_random = [next(fb) for _ in range(20)]"
   ],
   "outputs": [],
   "metadata": {}
  },
  {
   "cell_type": "code",
   "execution_count": 18,
   "source": [
    "test_fizzbuzz_20(output_random)"
   ],
   "outputs": [],
   "metadata": {}
  },
  {
   "cell_type": "markdown",
   "source": [
    "## Matrix Multiplication"
   ],
   "metadata": {}
  },
  {
   "cell_type": "code",
   "execution_count": 19,
   "source": [
    "def fizz_buzz_mtx(n: int) -> str:\n",
    "    w = np.array([[1, 0, 0], [2, -2, 0], [2, 0, -2], [3, -3, -3]])\n",
    "    v = np.array([1, n % 3, n % 5])\n",
    "    return [str(n), 'fizz', 'buzz', 'fizzbuzz'][np.argmax(w @ v)]"
   ],
   "outputs": [],
   "metadata": {}
  },
  {
   "cell_type": "code",
   "execution_count": 20,
   "source": [
    "output_mtx = [fizz_buzz_mtx(i) for i in range(1, 21)]\n",
    "test_fizzbuzz_20(output_mtx)"
   ],
   "outputs": [],
   "metadata": {}
  },
  {
   "cell_type": "markdown",
   "source": [
    "## Machine Learning"
   ],
   "metadata": {}
  },
  {
   "cell_type": "code",
   "execution_count": 21,
   "source": [
    "def fizz_buzz_class(n: int) -> int:\n",
    "    return [1, 3, 5, 15].index(math.gcd(n, 15))\n",
    "\n",
    "\n",
    "class Instance(NamedTuple):\n",
    "    n: int\n",
    "    features: torch.Tensor\n",
    "    label: int\n",
    "\n",
    "    @staticmethod\n",
    "    def create(n: int, featurize: Callable) -> 'Instance':\n",
    "        return Instance(n, featurize(n), fizz_buzz_class(n))\n",
    "\n",
    "\n",
    "def evaluate(model: torch.nn.Module, \n",
    "             data: list,\n",
    "             verbose = False) -> int:\n",
    "    num_correct = 0\n",
    "\n",
    "    # Don't compute gradients when evaluating\n",
    "    with torch.no_grad():\n",
    "        for n, features, label in data:\n",
    "            predicted = torch.argmax(model(features)).item()\n",
    "            num_correct += predicted == label\n",
    "\n",
    "            if verbose:\n",
    "                check = \"✓\" if predicted == label else \"×\"\n",
    "                outputs = [str(n), 'fizz', 'buzz', 'fizzbuzz']\n",
    "                print(check, n, outputs[predicted], outputs[label])\n",
    "\n",
    "    return num_correct\n",
    "\n",
    "\n",
    "def binary_digits(n: int, num_digits: int = 10) -> torch.Tensor:\n",
    "    digits = []\n",
    "    for _ in range(num_digits):\n",
    "        # Need to use floats\n",
    "        digits.append(float(n % 2))\n",
    "        n = n // 2\n",
    "    return torch.tensor(digits)\n",
    "\n",
    "\n",
    "training_data = [Instance.create(n, binary_digits)\n",
    "                 for n in range(101, 1023)]\n",
    "\n",
    "test_data = [Instance.create(n, binary_digits)\n",
    "             for n in range(1, 101)]\n",
    "\n",
    "input_dim = len(training_data[0].features)\n",
    "\n",
    "\n",
    "def train_model(\n",
    "    hidden_dim: int = 25,\n",
    "    num_epochs: int = 2500,\n",
    "    seed: int = 12,\n",
    "    output_path: str = None\n",
    ") -> torch.nn.Module:\n",
    "    torch.manual_seed(seed)\n",
    "\n",
    "    model = torch.nn.Sequential(\n",
    "        # Linear layer: input_dim -> hidden_dim\n",
    "        torch.nn.Linear(in_features=input_dim, out_features=hidden_dim),\n",
    "        # ReLU(x) = max(x, 0)\n",
    "        torch.nn.ReLU(),\n",
    "        # Linear layer: hidden_dim -> 4\n",
    "        torch.nn.Linear(in_features=hidden_dim, out_features=4)\n",
    "    )\n",
    "\n",
    "    loss = torch.nn.CrossEntropyLoss()\n",
    "    optimizer = torch.optim.AdamW(model.parameters())\n",
    "\n",
    "    for epoch in range(num_epochs):\n",
    "        epoch_loss = 0.0\n",
    "\n",
    "        for batch in DataLoader(training_data, \n",
    "                                batch_size=5, \n",
    "                                shuffle=True):\n",
    "            optimizer.zero_grad()\n",
    "\n",
    "            predictions = model(batch.features)\n",
    "            error = loss(predictions, batch.label)\n",
    "            error.backward()\n",
    "            epoch_loss += error.item()\n",
    "            optimizer.step()\n",
    "\n",
    "        num_correct = evaluate(model, \n",
    "                               test_data, \n",
    "                               verbose=epoch % 100 == 0)\n",
    "        print(f\"epoch: {epoch:>5} \"\n",
    "            f\"accuracy: {num_correct}/100 \"\n",
    "            f\"loss: {epoch_loss:.2f}\")\n",
    "\n",
    "    evaluate(model, test_data, verbose=True)\n",
    "\n",
    "    return model\n"
   ],
   "outputs": [],
   "metadata": {}
  },
  {
   "cell_type": "code",
   "execution_count": null,
   "source": [],
   "outputs": [],
   "metadata": {}
  }
 ],
 "metadata": {
  "orig_nbformat": 4,
  "language_info": {
   "name": "python",
   "version": "3.8.8",
   "mimetype": "text/x-python",
   "codemirror_mode": {
    "name": "ipython",
    "version": 3
   },
   "pygments_lexer": "ipython3",
   "nbconvert_exporter": "python",
   "file_extension": ".py"
  },
  "kernelspec": {
   "name": "python3",
   "display_name": "Python 3.8.8 64-bit ('base': conda)"
  },
  "interpreter": {
   "hash": "718bf85f3541632ea84dad26eb3650b79d1ee7e1ee55997bfbe797dc2dd7c243"
  }
 },
 "nbformat": 4,
 "nbformat_minor": 2
}